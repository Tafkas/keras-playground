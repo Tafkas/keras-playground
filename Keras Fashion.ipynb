{
 "cells": [
  {
   "cell_type": "code",
   "execution_count": 1,
   "metadata": {},
   "outputs": [
    {
     "name": "stderr",
     "output_type": "stream",
     "text": [
      "Using TensorFlow backend.\n"
     ]
    }
   ],
   "source": [
    "# Import libraries\n",
    "\n",
    "from keras.datasets import fashion_mnist as mnist\n",
    "from keras.layers import Dense, MaxPool2D, Conv2D, Dropout\n",
    "from keras.layers import Flatten, InputLayer\n",
    "from keras.layers.normalization import BatchNormalization\n",
    "from keras.models import Sequential\n",
    "from keras.utils import np_utils\n",
    "from keras.initializers import Constant"
   ]
  },
  {
   "cell_type": "code",
   "execution_count": 2,
   "metadata": {},
   "outputs": [],
   "source": [
    "# Load data\n",
    "# Function load_minst is available in git.\n",
    "(X_train, y_train), (X_test, y_test) = mnist.load_data()"
   ]
  },
  {
   "cell_type": "code",
   "execution_count": 3,
   "metadata": {},
   "outputs": [],
   "source": [
    "# Prepare datasets\n",
    "# This step contains normalization and reshaping of input.\n",
    "# For output, it is important to change number to one-hot vector. \n",
    "X_train = X_train.astype('float32') / 255\n",
    "X_train = X_train.reshape(X_train.shape[0], 1, 28, 28)\n",
    "X_test = X_test.astype('float32') / 255\n",
    "X_test = X_test.reshape(X_test.shape[0], 1, 28, 28)\n",
    "y_train = np_utils.to_categorical(y_train, 10)\n",
    "y_test = np_utils.to_categorical(y_test, 10)"
   ]
  },
  {
   "cell_type": "code",
   "execution_count": 4,
   "metadata": {},
   "outputs": [],
   "source": [
    "# Create model in Keras\n",
    "# This model is linear stack of layers\n",
    "clf = Sequential()\n",
    "\n",
    "# This layer is used as an entry point into a graph. \n",
    "# So, it is important to define input_shape.\n",
    "clf.add(\n",
    "    InputLayer(input_shape=(1, 28, 28))\n",
    ")\n",
    "\n",
    "# Normalize the activations of the previous layer at each batch.\n",
    "clf.add(\n",
    "    BatchNormalization()\n",
    ")\n",
    "\n",
    "# Next step is to add convolution layer to model.\n",
    "clf.add(\n",
    "    Conv2D(\n",
    "        32, (2, 2), \n",
    "        padding='same', \n",
    "        bias_initializer=Constant(0.01), \n",
    "        kernel_initializer='random_uniform'\n",
    "    )\n",
    ")\n",
    "\n",
    "# Add max pooling layer for 2D data.\n",
    "clf.add(MaxPool2D(padding='same'))\n",
    "\n",
    "# Add this same two layers to model.\n",
    "clf.add(\n",
    "    Conv2D(\n",
    "        32, \n",
    "        (2, 2), \n",
    "        padding='same', \n",
    "        bias_initializer=Constant(0.01), \n",
    "        kernel_initializer='random_uniform', \n",
    "        input_shape=(1, 28, 28)\n",
    "    )\n",
    ")\n",
    "clf.add(MaxPool2D(padding='same'))\n",
    "\n",
    "# It is necessary to flatten input data to a vector.\n",
    "clf.add(Flatten())\n",
    "\n",
    "# Last step is creation of fully-connected layers.\n",
    "clf.add(\n",
    "    Dense(\n",
    "        128,\n",
    "        activation='relu',\n",
    "        bias_initializer=Constant(0.01), \n",
    "        kernel_initializer='random_uniform',         \n",
    "    )\n",
    ")\n",
    "\n",
    "# Add output layer, which contains ten numbers.\n",
    "# Each number represents cloth type.\n",
    "clf.add(Dense(10, activation='softmax'))"
   ]
  },
  {
   "cell_type": "code",
   "execution_count": 5,
   "metadata": {},
   "outputs": [],
   "source": [
    "# Last step in Keras is to compile model.\n",
    "clf.compile(\n",
    "    loss='categorical_crossentropy', \n",
    "    optimizer='adam', \n",
    "    metrics=['accuracy']\n",
    ")"
   ]
  },
  {
   "cell_type": "code",
   "execution_count": 6,
   "metadata": {},
   "outputs": [
    {
     "name": "stdout",
     "output_type": "stream",
     "text": [
      "_________________________________________________________________\n",
      "Layer (type)                 Output Shape              Param #   \n",
      "=================================================================\n",
      "input_1 (InputLayer)         (None, 1, 28, 28)         0         \n",
      "_________________________________________________________________\n",
      "batch_normalization_1 (Batch (None, 1, 28, 28)         112       \n",
      "_________________________________________________________________\n",
      "conv2d_1 (Conv2D)            (None, 1, 28, 32)         3616      \n",
      "_________________________________________________________________\n",
      "max_pooling2d_1 (MaxPooling2 (None, 1, 14, 32)         0         \n",
      "_________________________________________________________________\n",
      "conv2d_2 (Conv2D)            (None, 1, 14, 32)         4128      \n",
      "_________________________________________________________________\n",
      "max_pooling2d_2 (MaxPooling2 (None, 1, 7, 32)          0         \n",
      "_________________________________________________________________\n",
      "flatten_1 (Flatten)          (None, 224)               0         \n",
      "_________________________________________________________________\n",
      "dense_1 (Dense)              (None, 128)               28800     \n",
      "_________________________________________________________________\n",
      "dense_2 (Dense)              (None, 10)                1290      \n",
      "=================================================================\n",
      "Total params: 37,946\n",
      "Trainable params: 37,890\n",
      "Non-trainable params: 56\n",
      "_________________________________________________________________\n",
      "None\n"
     ]
    }
   ],
   "source": [
    "print(clf.summary())"
   ]
  },
  {
   "cell_type": "code",
   "execution_count": 7,
   "metadata": {},
   "outputs": [
    {
     "name": "stdout",
     "output_type": "stream",
     "text": [
      "Train on 60000 samples, validate on 10000 samples\n",
      "Epoch 1/20\n",
      "60000/60000 [==============================] - 13s 219us/step - loss: 0.5000 - acc: 0.8199 - val_loss: 0.4193 - val_acc: 0.8485\n",
      "Epoch 2/20\n",
      "60000/60000 [==============================] - 13s 214us/step - loss: 0.3589 - acc: 0.8692 - val_loss: 0.3776 - val_acc: 0.8637\n",
      "Epoch 3/20\n",
      "60000/60000 [==============================] - 12s 200us/step - loss: 0.3215 - acc: 0.8817 - val_loss: 0.3363 - val_acc: 0.8752\n",
      "Epoch 4/20\n",
      "60000/60000 [==============================] - 11s 179us/step - loss: 0.2957 - acc: 0.8920 - val_loss: 0.3192 - val_acc: 0.8822\n",
      "Epoch 5/20\n",
      "60000/60000 [==============================] - 13s 218us/step - loss: 0.2772 - acc: 0.8975 - val_loss: 0.3058 - val_acc: 0.8881\n",
      "Epoch 6/20\n",
      "60000/60000 [==============================] - 11s 191us/step - loss: 0.2592 - acc: 0.9035 - val_loss: 0.3078 - val_acc: 0.8897\n",
      "Epoch 7/20\n",
      "60000/60000 [==============================] - 10s 173us/step - loss: 0.2447 - acc: 0.9102 - val_loss: 0.3160 - val_acc: 0.8855\n",
      "Epoch 8/20\n",
      "60000/60000 [==============================] - 11s 191us/step - loss: 0.2330 - acc: 0.9130 - val_loss: 0.3131 - val_acc: 0.8900\n",
      "Epoch 9/20\n",
      "60000/60000 [==============================] - 13s 213us/step - loss: 0.2238 - acc: 0.9169 - val_loss: 0.3205 - val_acc: 0.8911\n",
      "Epoch 10/20\n",
      "60000/60000 [==============================] - 12s 204us/step - loss: 0.2118 - acc: 0.9213 - val_loss: 0.3157 - val_acc: 0.8955\n",
      "Epoch 11/20\n",
      "60000/60000 [==============================] - 14s 226us/step - loss: 0.2052 - acc: 0.9225 - val_loss: 0.3378 - val_acc: 0.8903\n",
      "Epoch 12/20\n",
      "60000/60000 [==============================] - 12s 193us/step - loss: 0.1948 - acc: 0.9264 - val_loss: 0.3352 - val_acc: 0.8948\n",
      "Epoch 13/20\n",
      "60000/60000 [==============================] - 12s 195us/step - loss: 0.1878 - acc: 0.9290 - val_loss: 0.3456 - val_acc: 0.8898\n",
      "Epoch 14/20\n",
      "60000/60000 [==============================] - 15s 252us/step - loss: 0.1810 - acc: 0.9325 - val_loss: 0.3276 - val_acc: 0.8946\n",
      "Epoch 15/20\n",
      "60000/60000 [==============================] - 12s 201us/step - loss: 0.1744 - acc: 0.9352 - val_loss: 0.3503 - val_acc: 0.8922\n",
      "Epoch 16/20\n",
      "60000/60000 [==============================] - 14s 228us/step - loss: 0.1691 - acc: 0.9362 - val_loss: 0.3386 - val_acc: 0.8928\n",
      "Epoch 17/20\n",
      "60000/60000 [==============================] - 12s 204us/step - loss: 0.1605 - acc: 0.9394 - val_loss: 0.3473 - val_acc: 0.8940\n",
      "Epoch 18/20\n",
      "60000/60000 [==============================] - 13s 215us/step - loss: 0.1542 - acc: 0.9430 - val_loss: 0.3590 - val_acc: 0.8957\n",
      "Epoch 19/20\n",
      "60000/60000 [==============================] - 11s 184us/step - loss: 0.1529 - acc: 0.9416 - val_loss: 0.3754 - val_acc: 0.8908\n",
      "Epoch 20/20\n",
      "60000/60000 [==============================] - 13s 222us/step - loss: 0.1477 - acc: 0.9438 - val_loss: 0.3822 - val_acc: 0.8902\n"
     ]
    },
    {
     "data": {
      "text/plain": [
       "<keras.callbacks.History at 0x11875f4e0>"
      ]
     },
     "execution_count": 7,
     "metadata": {},
     "output_type": "execute_result"
    }
   ],
   "source": [
    "clf.fit(\n",
    "    X_train, \n",
    "    y_train, \n",
    "    epochs=20, \n",
    "    batch_size=32, \n",
    "    validation_data=(X_test, y_test)\n",
    ")"
   ]
  },
  {
   "cell_type": "code",
   "execution_count": 13,
   "metadata": {},
   "outputs": [
    {
     "name": "stdout",
     "output_type": "stream",
     "text": [
      "10000/10000 [==============================] - 1s 112us/step\n"
     ]
    },
    {
     "data": {
      "text/plain": [
       "['loss', 'acc']"
      ]
     },
     "execution_count": 13,
     "metadata": {},
     "output_type": "execute_result"
    }
   ],
   "source": [
    "clf.evaluate(X_test, y_test)\n",
    "\n",
    "# You can check metrics name in a vector above.\n",
    "clf.metrics_names\n",
    "['loss', 'acc']\n",
    "\n",
    "# Loss is a loss function. Acc is an accuracy. "
   ]
  },
  {
   "cell_type": "code",
   "execution_count": 12,
   "metadata": {},
   "outputs": [
    {
     "ename": "TypeError",
     "evalue": "'str' object is not callable",
     "output_type": "error",
     "traceback": [
      "\u001b[0;31m---------------------------------------------------------------------------\u001b[0m",
      "\u001b[0;31mTypeError\u001b[0m                                 Traceback (most recent call last)",
      "\u001b[0;32m<ipython-input-12-b0e80fa3dbd2>\u001b[0m in \u001b[0;36m<module>\u001b[0;34m()\u001b[0m\n\u001b[0;32m----> 1\u001b[0;31m \u001b[0mclf\u001b[0m\u001b[0;34m.\u001b[0m\u001b[0mloss\u001b[0m\u001b[0;34m(\u001b[0m\u001b[0;34m)\u001b[0m\u001b[0;34m\u001b[0m\u001b[0m\n\u001b[0m",
      "\u001b[0;31mTypeError\u001b[0m: 'str' object is not callable"
     ]
    }
   ],
   "source": [
    "clf."
   ]
  }
 ],
 "metadata": {
  "kernelspec": {
   "display_name": "Python 3",
   "language": "python",
   "name": "python3"
  },
  "language_info": {
   "codemirror_mode": {
    "name": "ipython",
    "version": 3
   },
   "file_extension": ".py",
   "mimetype": "text/x-python",
   "name": "python",
   "nbconvert_exporter": "python",
   "pygments_lexer": "ipython3",
   "version": "3.6.4"
  }
 },
 "nbformat": 4,
 "nbformat_minor": 2
}
