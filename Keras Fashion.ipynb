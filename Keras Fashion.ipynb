{
 "cells": [
  {
   "cell_type": "code",
   "execution_count": null,
   "metadata": {},
   "outputs": [],
   "source": [
    "# Import libraries\n",
    "\n",
    "from keras.datasets import fashion_mnist as mnist\n",
    "from keras.layers import Dense, MaxPool2D, Conv2D, Dropout\n",
    "from keras.layers import Flatten, InputLayer\n",
    "from keras.layers.normalization import BatchNormalization\n",
    "from keras.models import Sequential\n",
    "from keras.utils import np_utils\n",
    "from keras.initializers import Constant"
   ]
  },
  {
   "cell_type": "code",
   "execution_count": null,
   "metadata": {},
   "outputs": [],
   "source": [
    "# Load data\n",
    "# Function load_minst is available in git.\n",
    "(X_train, y_train), (X_test, y_test) = mnist.load_data()"
   ]
  },
  {
   "cell_type": "code",
   "execution_count": null,
   "metadata": {},
   "outputs": [],
   "source": [
    "# Prepare datasets\n",
    "# This step contains normalization and reshaping of input.\n",
    "# For output, it is important to change number to one-hot vector. \n",
    "X_train = X_train.astype('float32') / 255\n",
    "X_train = X_train.reshape(X_train.shape[0], 1, 28, 28)\n",
    "X_test = X_test.astype('float32') / 255\n",
    "X_test = X_test.reshape(X_test.shape[0], 1, 28, 28)\n",
    "y_train = np_utils.to_categorical(y_train, 10)\n",
    "y_test = np_utils.to_categorical(y_test, 10)"
   ]
  },
  {
   "cell_type": "code",
   "execution_count": null,
   "metadata": {},
   "outputs": [],
   "source": [
    "# Create model in Keras\n",
    "# This model is linear stack of layers\n",
    "clf = Sequential()\n",
    "\n",
    "# This layer is used as an entry point into a graph. \n",
    "# So, it is important to define input_shape.\n",
    "clf.add(\n",
    "    InputLayer(input_shape=(1, 28, 28))\n",
    ")\n",
    "\n",
    "# Normalize the activations of the previous layer at each batch.\n",
    "clf.add(\n",
    "    BatchNormalization()\n",
    ")\n",
    "\n",
    "# Next step is to add convolution layer to model.\n",
    "clf.add(\n",
    "    Conv2D(\n",
    "        32, (2, 2), \n",
    "        padding='same', \n",
    "        bias_initializer=Constant(0.01), \n",
    "        kernel_initializer='random_uniform'\n",
    "    )\n",
    ")\n",
    "\n",
    "# Add max pooling layer for 2D data.\n",
    "clf.add(MaxPool2D(padding='same'))\n",
    "\n",
    "# Add this same two layers to model.\n",
    "clf.add(\n",
    "    Conv2D(\n",
    "        32, \n",
    "        (2, 2), \n",
    "        padding='same', \n",
    "        bias_initializer=Constant(0.01), \n",
    "        kernel_initializer='random_uniform', \n",
    "        input_shape=(1, 28, 28)\n",
    "    )\n",
    ")\n",
    "clf.add(MaxPool2D(padding='same'))\n",
    "\n",
    "# It is necessary to flatten input data to a vector.\n",
    "clf.add(Flatten())\n",
    "\n",
    "# Last step is creation of fully-connected layers.\n",
    "clf.add(\n",
    "    Dense(\n",
    "        128,\n",
    "        activation='relu',\n",
    "        bias_initializer=Constant(0.01), \n",
    "        kernel_initializer='random_uniform',         \n",
    "    )\n",
    ")\n",
    "\n",
    "# Add output layer, which contains ten numbers.\n",
    "# Each number represents cloth type.\n",
    "clf.add(Dense(10, activation='softmax'))"
   ]
  },
  {
   "cell_type": "code",
   "execution_count": null,
   "metadata": {},
   "outputs": [],
   "source": [
    "# Last step in Keras is to compile model.\n",
    "clf.compile(\n",
    "    loss='categorical_crossentropy', \n",
    "    optimizer='adam', \n",
    "    metrics=['accuracy']\n",
    ")"
   ]
  },
  {
   "cell_type": "code",
   "execution_count": null,
   "metadata": {},
   "outputs": [],
   "source": [
    "print(clf.summary())"
   ]
  },
  {
   "cell_type": "code",
   "execution_count": null,
   "metadata": {},
   "outputs": [],
   "source": [
    "clf.fit(\n",
    "    X_train, \n",
    "    y_train, \n",
    "    epochs=20, \n",
    "    batch_size=32, \n",
    "    validation_data=(X_test, y_test)\n",
    ")"
   ]
  },
  {
   "cell_type": "code",
   "execution_count": null,
   "metadata": {},
   "outputs": [],
   "source": [
    "clf.evaluate(X_test, y_test)\n",
    "\n",
    "# You can check metrics name in a vector above.\n",
    "clf.metrics_names\n",
    "['loss', 'acc']\n",
    "\n",
    "# Loss is a loss function. Acc is an accuracy. "
   ]
  },
  {
   "cell_type": "code",
   "execution_count": null,
   "metadata": {},
   "outputs": [],
   "source": [
    "clf."
   ]
  }
 ],
 "metadata": {
  "kernelspec": {
   "display_name": "Python 3",
   "language": "python",
   "name": "python3"
  },
  "language_info": {
   "codemirror_mode": {
    "name": "ipython",
    "version": 3
   },
   "file_extension": ".py",
   "mimetype": "text/x-python",
   "name": "python",
   "nbconvert_exporter": "python",
   "pygments_lexer": "ipython3",
   "version": "3.6.4"
  }
 },
 "nbformat": 4,
 "nbformat_minor": 2
}
